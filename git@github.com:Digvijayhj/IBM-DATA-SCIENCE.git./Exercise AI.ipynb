{
    "cells": [
        {
            "cell_type": "markdown",
            "metadata": {},
            "source": "# Zero to Singularity: Create, Tune, Deploy and Scale a Deep Neural Network in 90 Minutes\n\nThis notebook is part of a masterclass held at IBM Think on 13th of February 2019 in San Fransisco\nIn this exercise you will train a Keras DeepLearning model running on top of TensorFlow. \n\nNote: For sake of bringing the training runtime down we've done two things\n\n1) Used a softmax regression model over a Convolutional Neural Network \n\n2) Trained only for one epoch instead of 20\n\nThis leads to approx. 5% less accuracy\n\n\nAuthors\n\nRomeo Kienzler - Chief Data Scientist, IBM Watson IoT\n\nKrishnamurthy Arthanarisamy - Architect, Watson Machine Learning Software Lab, Bangalore\n\n\n# Prerequisites\n\nPlease make sure the currently installed version of Keras and Tensorflow are matching the requirememts, if not, please run the two PIP commands below in order to re-install. Please restart the kernal before proceeding, please re-check if the versions are matching."
        },
        {
            "cell_type": "code",
            "execution_count": 1,
            "metadata": {},
            "outputs": [
                {
                    "name": "stderr",
                    "output_type": "stream",
                    "text": "Using TensorFlow backend.\n"
                },
                {
                    "name": "stdout",
                    "output_type": "stream",
                    "text": "Current:\t 2.2.4\nExpected:\t 2.2.5 \n"
                }
            ],
            "source": "import keras\nprint('Current:\\t', keras.__version__)\nprint('Expected:\\t 2.2.5 ')"
        },
        {
            "cell_type": "code",
            "execution_count": 2,
            "metadata": {},
            "outputs": [
                {
                    "name": "stdout",
                    "output_type": "stream",
                    "text": "Current:\t 1.13.1\nExpected:\t 1.15.0\n"
                }
            ],
            "source": "import tensorflow as tf\nprint('Current:\\t', tf.__version__)\nprint('Expected:\\t 1.15.0')"
        },
        {
            "cell_type": "markdown",
            "metadata": {},
            "source": "# IMPORTANT !!!\n\nIf you ran the two lines below please restart your kernel (Kernel->Restart & Clear Output)"
        },
        {
            "cell_type": "code",
            "execution_count": 3,
            "metadata": {},
            "outputs": [
                {
                    "name": "stdout",
                    "output_type": "stream",
                    "text": "Collecting keras==2.2.5\n\u001b[?25l  Downloading https://files.pythonhosted.org/packages/f8/ba/2d058dcf1b85b9c212cc58264c98a4a7dd92c989b798823cc5690d062bb2/Keras-2.2.5-py2.py3-none-any.whl (336kB)\n\u001b[K     |\u2588\u2588\u2588\u2588\u2588\u2588\u2588\u2588\u2588\u2588\u2588\u2588\u2588\u2588\u2588\u2588\u2588\u2588\u2588\u2588\u2588\u2588\u2588\u2588\u2588\u2588\u2588\u2588\u2588\u2588\u2588\u2588| 337kB 5.5MB/s eta 0:00:01\n\u001b[?25hCollecting keras-applications>=1.0.8 (from keras==2.2.5)\n\u001b[?25l  Downloading https://files.pythonhosted.org/packages/71/e3/19762fdfc62877ae9102edf6342d71b28fbfd9dea3d2f96a882ce099b03f/Keras_Applications-1.0.8-py3-none-any.whl (50kB)\n\u001b[K     |\u2588\u2588\u2588\u2588\u2588\u2588\u2588\u2588\u2588\u2588\u2588\u2588\u2588\u2588\u2588\u2588\u2588\u2588\u2588\u2588\u2588\u2588\u2588\u2588\u2588\u2588\u2588\u2588\u2588\u2588\u2588\u2588| 51kB 9.8MB/s  eta 0:00:01\n\u001b[?25hRequirement already satisfied: pyyaml in /opt/conda/envs/Python36/lib/python3.6/site-packages (from keras==2.2.5) (3.13)\nRequirement already satisfied: numpy>=1.9.1 in /opt/conda/envs/Python36/lib/python3.6/site-packages (from keras==2.2.5) (1.15.4)\nRequirement already satisfied: scipy>=0.14 in /opt/conda/envs/Python36/lib/python3.6/site-packages (from keras==2.2.5) (1.2.0)\nRequirement already satisfied: six>=1.9.0 in /opt/conda/envs/Python36/lib/python3.6/site-packages (from keras==2.2.5) (1.12.0)\nCollecting keras-preprocessing>=1.1.0 (from keras==2.2.5)\n\u001b[?25l  Downloading https://files.pythonhosted.org/packages/79/4c/7c3275a01e12ef9368a892926ab932b33bb13d55794881e3573482b378a7/Keras_Preprocessing-1.1.2-py2.py3-none-any.whl (42kB)\n\u001b[K     |\u2588\u2588\u2588\u2588\u2588\u2588\u2588\u2588\u2588\u2588\u2588\u2588\u2588\u2588\u2588\u2588\u2588\u2588\u2588\u2588\u2588\u2588\u2588\u2588\u2588\u2588\u2588\u2588\u2588\u2588\u2588\u2588| 51kB 10.2MB/s eta 0:00:01\n\u001b[?25hRequirement already satisfied: h5py in /opt/conda/envs/Python36/lib/python3.6/site-packages (from keras==2.2.5) (2.9.0)\n\u001b[31mERROR: tensorflow 1.13.1 requires tensorboard<1.14.0,>=1.13.0, which is not installed.\u001b[0m\nInstalling collected packages: keras-applications, keras-preprocessing, keras\n  Found existing installation: Keras-Applications 1.0.6\n    Uninstalling Keras-Applications-1.0.6:\n      Successfully uninstalled Keras-Applications-1.0.6\n  Found existing installation: Keras-Preprocessing 1.0.5\n    Uninstalling Keras-Preprocessing-1.0.5:\n      Successfully uninstalled Keras-Preprocessing-1.0.5\n  Found existing installation: Keras 2.2.4\n    Uninstalling Keras-2.2.4:\n      Successfully uninstalled Keras-2.2.4\nSuccessfully installed keras-2.2.5 keras-applications-1.0.8 keras-preprocessing-1.1.2\n"
                }
            ],
            "source": "!pip install keras==2.2.5 "
        },
        {
            "cell_type": "code",
            "execution_count": 4,
            "metadata": {},
            "outputs": [
                {
                    "name": "stdout",
                    "output_type": "stream",
                    "text": "Collecting tensorflow==1.15.0\n\u001b[?25l  Downloading https://files.pythonhosted.org/packages/3f/98/5a99af92fb911d7a88a0005ad55005f35b4c1ba8d75fba02df726cd936e6/tensorflow-1.15.0-cp36-cp36m-manylinux2010_x86_64.whl (412.3MB)\n\u001b[K     |\u2588\u2588\u2588\u2588\u2588\u2588\u2588\u2588\u2588\u2588\u2588\u2588\u2588\u2588\u2588\u2588\u2588\u2588\u2588\u2588\u2588\u2588\u2588\u2588\u2588\u2588\u2588\u2588\u2588\u2588\u2588\u2588| 412.3MB 33kB/s s eta 0:00:01    |\u2588\u2588\u2588\u2588\u258a                           | 60.2MB 22.1MB/s eta 0:00:16     |\u2588\u2588\u2588\u2588\u2588\u258f                          | 66.0MB 22.1MB/s eta 0:00:16\ufffd\ufffd\u2588\u2588\u2588\u2588\u258b                     | 136.4MB 22.7MB/s eta 0:00:13     |\u2588\u2588\u2588\u2588\u2588\u2588\u2588\u2588\u2588\u2588\u2588\u2588\u2588\u2588\u258b                 | 188.6MB 22.3MB/s eta 0:00:11     |\u2588\u2588\u2588\u2588\u2588\u2588\u2588\u2588\u2588\u2588\u2588\u2588\u2588\u2588\u2588\u2588                | 206.1MB 25.2MB/s eta 0:00:09     |\u2588\u2588\u2588\u2588\u2588\u2588\u2588\u2588\u2588\u2588\u2588\u2588\u2588\u2588\u2588\u2588\u2588\u2588\u258b             | 239.9MB 23.6MB/s eta 0:00:08     |\u2588\u2588\u2588\u2588\u2588\u2588\u2588\u2588\u2588\u2588\u2588\u2588\u2588\u2588\u2588\u2588\u2588\u2588\u2588\u2588\u2588\u2588\u2588\u2588\u2588\u2588\u258a     | 344.8MB 24.4MB/s eta 0:00:03     |\u2588\u2588\u2588\u2588\u2588\u2588\u2588\u2588\u2588\u2588\u2588\u2588\u2588\u2588\u2588\u2588\u2588\u2588\u2588\u2588\u2588\u2588\u2588\u2588\u2588\u2588\u2588\u2588    | 360.8MB 7.8MB/s eta 0:00:07\n\u001b[?25hRequirement already satisfied: protobuf>=3.6.1 in /opt/conda/envs/Python36/lib/python3.6/site-packages (from tensorflow==1.15.0) (3.11.2)\nCollecting tensorflow-estimator==1.15.1 (from tensorflow==1.15.0)\n\u001b[?25l  Downloading https://files.pythonhosted.org/packages/de/62/2ee9cd74c9fa2fa450877847ba560b260f5d0fb70ee0595203082dafcc9d/tensorflow_estimator-1.15.1-py2.py3-none-any.whl (503kB)\n\u001b[K     |\u2588\u2588\u2588\u2588\u2588\u2588\u2588\u2588\u2588\u2588\u2588\u2588\u2588\u2588\u2588\u2588\u2588\u2588\u2588\u2588\u2588\u2588\u2588\u2588\u2588\u2588\u2588\u2588\u2588\u2588\u2588\u2588| 512kB 19.1MB/s eta 0:00:01\ufffd\ufffd\u2588\u2588\u2588\u2588\u2588\u2588\u2588\u2588\u2588\u2588\u2588      | 409kB 19.1MB/s eta 0:00:01\n\u001b[?25hRequirement already satisfied: keras-applications>=1.0.8 in /opt/conda/envs/Python36/lib/python3.6/site-packages (from tensorflow==1.15.0) (1.0.8)\nRequirement already satisfied: keras-preprocessing>=1.0.5 in /opt/conda/envs/Python36/lib/python3.6/site-packages (from tensorflow==1.15.0) (1.1.2)\nRequirement already satisfied: wrapt>=1.11.1 in /opt/conda/envs/Python36/lib/python3.6/site-packages (from tensorflow==1.15.0) (1.11.1)\nRequirement already satisfied: six>=1.10.0 in /opt/conda/envs/Python36/lib/python3.6/site-packages (from tensorflow==1.15.0) (1.12.0)\nCollecting google-pasta>=0.1.6 (from tensorflow==1.15.0)\n\u001b[?25l  Downloading https://files.pythonhosted.org/packages/a3/de/c648ef6835192e6e2cc03f40b19eeda4382c49b5bafb43d88b931c4c74ac/google_pasta-0.2.0-py3-none-any.whl (57kB)\n\u001b[K     |\u2588\u2588\u2588\u2588\u2588\u2588\u2588\u2588\u2588\u2588\u2588\u2588\u2588\u2588\u2588\u2588\u2588\u2588\u2588\u2588\u2588\u2588\u2588\u2588\u2588\u2588\u2588\u2588\u2588\u2588\u2588\u2588| 61kB 10.9MB/s eta 0:00:01\n\u001b[?25hRequirement already satisfied: wheel>=0.26 in /opt/conda/envs/Python36/lib/python3.6/site-packages (from tensorflow==1.15.0) (0.32.3)\nCollecting opt-einsum>=2.3.2 (from tensorflow==1.15.0)\n\u001b[?25l  Downloading https://files.pythonhosted.org/packages/63/a5/e6c07b08b934831ccb8c98ee335e66b7761c5754ee3cabfe4c11d0b1af28/opt_einsum-3.2.1-py3-none-any.whl (63kB)\n\u001b[K     |\u2588\u2588\u2588\u2588\u2588\u2588\u2588\u2588\u2588\u2588\u2588\u2588\u2588\u2588\u2588\u2588\u2588\u2588\u2588\u2588\u2588\u2588\u2588\u2588\u2588\u2588\u2588\u2588\u2588\u2588\u2588\u2588| 71kB 11.7MB/s eta 0:00:01\n\u001b[?25hCollecting tensorboard<1.16.0,>=1.15.0 (from tensorflow==1.15.0)\n\u001b[?25l  Downloading https://files.pythonhosted.org/packages/1e/e9/d3d747a97f7188f48aa5eda486907f3b345cd409f0a0850468ba867db246/tensorboard-1.15.0-py3-none-any.whl (3.8MB)\n\u001b[K     |\u2588\u2588\u2588\u2588\u2588\u2588\u2588\u2588\u2588\u2588\u2588\u2588\u2588\u2588\u2588\u2588\u2588\u2588\u2588\u2588\u2588\u2588\u2588\u2588\u2588\u2588\u2588\u2588\u2588\u2588\u2588\u2588| 3.8MB 18.1MB/s eta 0:00:01\n\u001b[?25hRequirement already satisfied: grpcio>=1.8.6 in /opt/conda/envs/Python36/lib/python3.6/site-packages (from tensorflow==1.15.0) (1.16.1)\nRequirement already satisfied: absl-py>=0.7.0 in /opt/conda/envs/Python36/lib/python3.6/site-packages (from tensorflow==1.15.0) (0.7.0)\nRequirement already satisfied: astor>=0.6.0 in /opt/conda/envs/Python36/lib/python3.6/site-packages (from tensorflow==1.15.0) (0.7.1)\nRequirement already satisfied: gast==0.2.2 in /opt/conda/envs/Python36/lib/python3.6/site-packages (from tensorflow==1.15.0) (0.2.2)\nRequirement already satisfied: termcolor>=1.1.0 in /opt/conda/envs/Python36/lib/python3.6/site-packages (from tensorflow==1.15.0) (1.1.0)\nCollecting numpy<2.0,>=1.16.0 (from tensorflow==1.15.0)\n\u001b[?25l  Downloading https://files.pythonhosted.org/packages/93/0b/71ae818646c1a80fbe6776d41f480649523ed31243f1f34d9d7e41d70195/numpy-1.19.0-cp36-cp36m-manylinux2010_x86_64.whl (14.6MB)\n\u001b[K     |\u2588\u2588\u2588\u2588\u2588\u2588\u2588\u2588\u2588\u2588\u2588\u2588\u2588\u2588\u2588\u2588\u2588\u2588\u2588\u2588\u2588\u2588\u2588\u2588\u2588\u2588\u2588\u2588\u2588\u2588\u2588\u2588| 14.6MB 19.2MB/s eta 0:00:01     | 266kB 19.2MB/s eta 0:00:01ta 0:00:01     |\u2588\u2588\u2588\u2588\u2588\u2588\u258e                         | 2.9MB 19.2MB/s eta 0:00:01\n\u001b[?25hRequirement already satisfied: setuptools in /opt/conda/envs/Python36/lib/python3.6/site-packages (from protobuf>=3.6.1->tensorflow==1.15.0) (40.8.0)\nRequirement already satisfied: h5py in /opt/conda/envs/Python36/lib/python3.6/site-packages (from keras-applications>=1.0.8->tensorflow==1.15.0) (2.9.0)\nRequirement already satisfied: werkzeug>=0.11.15 in /opt/conda/envs/Python36/lib/python3.6/site-packages (from tensorboard<1.16.0,>=1.15.0->tensorflow==1.15.0) (0.14.1)\nRequirement already satisfied: markdown>=2.6.8 in /opt/conda/envs/Python36/lib/python3.6/site-packages (from tensorboard<1.16.0,>=1.15.0->tensorflow==1.15.0) (3.0.1)\n\u001b[31mERROR: autoai-libs 1.10.5 has requirement pandas>=0.24.2, but you'll have pandas 0.24.1 which is incompatible.\u001b[0m\n\u001b[31mERROR: tensorboard 1.15.0 has requirement setuptools>=41.0.0, but you'll have setuptools 40.8.0 which is incompatible.\u001b[0m\nInstalling collected packages: tensorflow-estimator, google-pasta, numpy, opt-einsum, tensorboard, tensorflow\n  Found existing installation: tensorflow-estimator 1.13.0\n    Uninstalling tensorflow-estimator-1.13.0:\n      Successfully uninstalled tensorflow-estimator-1.13.0\n  Found existing installation: numpy 1.15.4\n    Uninstalling numpy-1.15.4:\n      Successfully uninstalled numpy-1.15.4\nSuccessfully installed google-pasta-0.2.0 numpy-1.19.0 opt-einsum-3.2.1 tensorboard-1.15.0 tensorflow-1.15.0 tensorflow-estimator-1.15.1\n"
                }
            ],
            "source": "!pip install tensorflow==1.15.0"
        },
        {
            "cell_type": "markdown",
            "metadata": {},
            "source": "# 1.0 Train a MNIST digits recognition model\nWe start with some global parameters and imports"
        },
        {
            "cell_type": "code",
            "execution_count": 5,
            "metadata": {},
            "outputs": [],
            "source": "#some learners constantly reported 502 errors in Watson Studio. \n#This is due to the limited resources in the free tier and the heavy resource consumption of Keras.\n#This is a workaround to limit resource consumption\n\nfrom keras import backend as K\n\nK.set_session(K.tf.Session(config=K.tf.ConfigProto(intra_op_parallelism_threads=1, inter_op_parallelism_threads=1)))"
        },
        {
            "cell_type": "code",
            "execution_count": 6,
            "metadata": {},
            "outputs": [],
            "source": "import keras\nfrom keras.models import Model\nfrom keras.layers import Input, Dense\nfrom keras.layers import Dense, Dropout, Flatten\nfrom keras.layers import Conv2D, MaxPooling2D\nfrom keras.datasets import mnist\nfrom keras.models import Sequential, load_model\nfrom keras.optimizers import RMSprop\nfrom keras.layers import LeakyReLU\n\nfrom keras import backend as K\nimport numpy as np"
        },
        {
            "cell_type": "code",
            "execution_count": 7,
            "metadata": {},
            "outputs": [
                {
                    "name": "stdout",
                    "output_type": "stream",
                    "text": "Downloading data from https://s3.amazonaws.com/img-datasets/mnist.npz\n11493376/11490434 [==============================] - 3s 0us/step\n"
                }
            ],
            "source": "batch_size = 128\nnum_classes = 10\nepochs = 1\n\n# the data, split between train and test sets\n(x_train, y_train), (x_test, y_test) = mnist.load_data()\n\nx_train = x_train.reshape(60000, 784)\nx_test = x_test.reshape(10000, 784)\nx_train = x_train.astype('float32')\nx_test = x_test.astype('float32')\nx_train /= 255\nx_test /= 255\n\n\n# convert class vectors to binary class matrices\ny_train = keras.utils.to_categorical(y_train, num_classes)\ny_test = keras.utils.to_categorical(y_test, num_classes)\n"
        },
        {
            "cell_type": "markdown",
            "metadata": {},
            "source": "# Training a simple model\nFirst we'll train a simple softmax regressor and check what accuracy we get"
        },
        {
            "cell_type": "code",
            "execution_count": 8,
            "metadata": {},
            "outputs": [
                {
                    "name": "stdout",
                    "output_type": "stream",
                    "text": "WARNING:tensorflow:From /opt/conda/envs/Python36/lib/python3.6/site-packages/tensorflow/python/framework/op_def_library.py:263: colocate_with (from tensorflow.python.framework.ops) is deprecated and will be removed in a future version.\nInstructions for updating:\nColocations handled automatically by placer.\nWARNING:tensorflow:From /opt/conda/envs/Python36/lib/python3.6/site-packages/tensorflow/python/ops/math_ops.py:3066: to_int32 (from tensorflow.python.ops.math_ops) is deprecated and will be removed in a future version.\nInstructions for updating:\nUse tf.cast instead.\nTrain on 60000 samples, validate on 10000 samples\nEpoch 1/1\n60000/60000 [==============================] - 20s 338us/step - loss: 0.3846 - acc: 0.8893 - val_loss: 0.2901 - val_acc: 0.9173\n\n\nAccuracy: 0.9173\n"
                }
            ],
            "source": "model = Sequential()\nmodel.add(Dense(512, input_shape=(784,)))\nmodel.add(Dense(num_classes, activation='softmax'))\n\n\n\nmodel.compile(loss='categorical_crossentropy',\n        optimizer='rmsprop',\n        metrics=['accuracy'])\n\nmodel.fit(x_train, y_train,\n        batch_size=batch_size,\n        epochs=epochs,\n        verbose=1,\n        validation_data=(x_test, y_test))\n        \nscore = model.evaluate(x_test, y_test, verbose=0)\n\nprint('\\n')\nprint('Accuracy:',score[1])"
        },
        {
            "cell_type": "code",
            "execution_count": 9,
            "metadata": {},
            "outputs": [],
            "source": "#some cleanup from the previous run\n!rm -f ker_*\n!rm -f my_best_model.tgz"
        },
        {
            "cell_type": "markdown",
            "metadata": {},
            "source": "You should see an accuracy of approximately 90%. Now lets define a hyper-parameter grid including different activation functions and gradient descent optimizers. We\u2019re optimizing over the grid using grid search (nested for loops) and store each model variant in a file. We then decide for the best one in order to deploy to IBM Watson Machine Learning."
        },
        {
            "cell_type": "code",
            "execution_count": 10,
            "metadata": {},
            "outputs": [
                {
                    "name": "stdout",
                    "output_type": "stream",
                    "text": "Train on 60000 samples, validate on 10000 samples\nEpoch 1/1\n60000/60000 [==============================] - 21s 353us/step - loss: 0.4296 - acc: 0.8821 - val_loss: 0.2682 - val_acc: 0.9190\nTrain on 60000 samples, validate on 10000 samples\nEpoch 1/1\n60000/60000 [==============================] - 21s 349us/step - loss: 0.4170 - acc: 0.8875 - val_loss: 0.2908 - val_acc: 0.9195\nTrain on 60000 samples, validate on 10000 samples\nEpoch 1/1\n60000/60000 [==============================] - 25s 414us/step - loss: 0.5472 - acc: 0.8619 - val_loss: 0.3165 - val_acc: 0.9104\nTrain on 60000 samples, validate on 10000 samples\nEpoch 1/1\n60000/60000 [==============================] - 22s 372us/step - loss: 0.3354 - acc: 0.9021 - val_loss: 0.2091 - val_acc: 0.9379\nTrain on 60000 samples, validate on 10000 samples\nEpoch 1/1\n60000/60000 [==============================] - 23s 379us/step - loss: 0.3313 - acc: 0.9078 - val_loss: 0.2237 - val_acc: 0.9366\nTrain on 60000 samples, validate on 10000 samples\nEpoch 1/1\n60000/60000 [==============================] - 26s 433us/step - loss: 0.3643 - acc: 0.8949 - val_loss: 0.2767 - val_acc: 0.9178\nTrain on 60000 samples, validate on 10000 samples\nEpoch 1/1\n60000/60000 [==============================] - 30s 506us/step - loss: 0.2528 - acc: 0.9275 - val_loss: 0.1386 - val_acc: 0.9593\nTrain on 60000 samples, validate on 10000 samples\nEpoch 1/1\n60000/60000 [==============================] - 31s 514us/step - loss: 0.2451 - acc: 0.9308 - val_loss: 0.1399 - val_acc: 0.9593\nTrain on 60000 samples, validate on 10000 samples\nEpoch 1/1\n60000/60000 [==============================] - 36s 608us/step - loss: 0.2964 - acc: 0.9156 - val_loss: 0.1646 - val_acc: 0.9505\n"
                }
            ],
            "source": "#define parameter grid\n\nactivation_functions_layer_1 = ['sigmoid','tanh','relu']\nopimizers = ['rmsprop','adagrad','adadelta']\n\n#optimize over parameter grid (grid search)\n\nfor activation_function_layer_1 in activation_functions_layer_1:\n    for opimizer in opimizers:\n        \n        model = Sequential()\n        model.add(Dense(512, activation = activation_function_layer_1, input_shape=(784,)))\n        model.add(Dense(num_classes, activation='softmax'))\n\n\n\n        model.compile(loss='categorical_crossentropy',\n              optimizer=opimizer,\n              metrics=['accuracy'])\n\n        model.fit(x_train, y_train,\n              batch_size=batch_size,\n              epochs=epochs,\n              verbose=1,\n              validation_data=(x_test, y_test))\n        \n        score = model.evaluate(x_test, y_test, verbose=0)\n        save_path = \"ker_func_mnist_model_2.%s.%s.%s.h5\" % (activation_function_layer_1,opimizer,score[1])\n        model.save(save_path)"
        },
        {
            "cell_type": "markdown",
            "metadata": {},
            "source": "# Model evaluation\nLet's have a look at all the models and see which hyper parameter configuration was the best one. You should see that relu and rmsprop gives you > 95% of accuracy on the validation set"
        },
        {
            "cell_type": "code",
            "execution_count": 11,
            "metadata": {},
            "outputs": [
                {
                    "name": "stdout",
                    "output_type": "stream",
                    "text": "-rw-r----- 1 dsxuser dsxuser 3276560 Jul 15 18:51 ker_func_mnist_model_2.sigmoid.rmsprop.0.919.h5\r\n-rw-r----- 1 dsxuser dsxuser 3276560 Jul 15 18:52 ker_func_mnist_model_2.sigmoid.adagrad.0.9195.h5\r\n-rw-r----- 1 dsxuser dsxuser 4905120 Jul 15 18:52 ker_func_mnist_model_2.sigmoid.adadelta.0.9104.h5\r\n-rw-r----- 1 dsxuser dsxuser 3276560 Jul 15 18:53 ker_func_mnist_model_2.tanh.rmsprop.0.9379.h5\r\n-rw-r----- 1 dsxuser dsxuser 3276568 Jul 15 18:53 ker_func_mnist_model_2.tanh.adagrad.0.9366.h5\r\n-rw-r----- 1 dsxuser dsxuser 4905128 Jul 15 18:54 ker_func_mnist_model_2.tanh.adadelta.0.9178.h5\r\n-rw-r----- 1 dsxuser dsxuser 3276568 Jul 15 18:54 ker_func_mnist_model_2.relu.rmsprop.0.9593.h5\r\n-rw-r----- 1 dsxuser dsxuser 3276568 Jul 15 18:55 ker_func_mnist_model_2.relu.adagrad.0.9593.h5\r\n-rw-r----- 1 dsxuser dsxuser 4905128 Jul 15 18:56 ker_func_mnist_model_2.relu.adadelta.0.9505.h5\r\n"
                }
            ],
            "source": "ls -ltr ker_*"
        },
        {
            "cell_type": "markdown",
            "metadata": {},
            "source": "Now it's time to create a tarball out of your favorite model, please replace the name of your favorite model H5 file with \u201cplease-put-me-here\u201d"
        },
        {
            "cell_type": "code",
            "execution_count": 42,
            "metadata": {},
            "outputs": [
                {
                    "name": "stdout",
                    "output_type": "stream",
                    "text": "ker_func_mnist_model_2.relu.rmsprop.0.9593.h5\r\n"
                }
            ],
            "source": "!tar -zcvf my_best_model.tgz ker_func_mnist_model_2.relu.rmsprop.0.9593.h5"
        },
        {
            "cell_type": "markdown",
            "metadata": {},
            "source": "## 2.0 Save the trained model to WML Repository"
        },
        {
            "cell_type": "markdown",
            "metadata": {},
            "source": "We will use `watson_machine_learning_client` python library to save the trained model to WML Repository, to deploy the saved model and to make predictions using the deployed model.</br>\n\n\n`watson_machine_learning_client` can be installed using the following `pip` command in case you are running outside Watson Studio:\n\n`!pip install watson-machine-learning-client --upgrade`"
        },
        {
            "cell_type": "code",
            "execution_count": 43,
            "metadata": {},
            "outputs": [],
            "source": "from watson_machine_learning_client import WatsonMachineLearningAPIClient"
        },
        {
            "cell_type": "markdown",
            "metadata": {},
            "source": "Please go to https://cloud.ibm.com/,  login, click on the \u201cCreate Resource\u201d button. From the \u201cAI\u201d category, please choose \u201cMachine Learning\u201d. Wait for the \u201cCreate\u201d button to activate and click on \u201cCreate\u201d. Click on \u201cService Credentials\u201d, then \u201cNew Credential\u201d, then \u201cAdd\u201d. From the new entry in the table, under \u201cACTIONS\u201d, please click on \u201cView Credentials\u201d. Please copy the whole JSON object to your clipboard. Now just paste the JSON object below so that you are able to use your personal instance of Watson Machine Learning."
        },
        {
            "cell_type": "code",
            "execution_count": 44,
            "metadata": {},
            "outputs": [],
            "source": "wml_credentials={\n\"apikey\": \"N0qrxm1spr4_uxwx13kViL0N3ENVAu6cXl50LCuHbeTl\",\n  \"iam_apikey_description\": \"Auto-generated for key 10ddc4d4-636d-42ba-8db9-4c3d02e2d7ae\",\n  \"iam_apikey_name\": \"Service credentials-1\",\n  \"iam_role_crn\": \"crn:v1:bluemix:public:iam::::serviceRole:Writer\",\n  \"iam_serviceid_crn\": \"crn:v1:bluemix:public:iam-identity::a/4311793b51dc4bb5b89c2b7ac4c90265::serviceid:ServiceId-3492c186-81e1-44b5-b246-31dfc4d95dfc\",\n  \"instance_id\": \"19d0758d-c6df-45f8-a1ef-ab20f4e4f2ad\",\n  \"url\": \"https://eu-gb.ml.cloud.ibm.com\"\n}"
        },
        {
            "cell_type": "code",
            "execution_count": 45,
            "metadata": {},
            "outputs": [],
            "source": "client = WatsonMachineLearningAPIClient(wml_credentials)"
        },
        {
            "cell_type": "code",
            "execution_count": 46,
            "metadata": {},
            "outputs": [],
            "source": "model_props = {client.repository.ModelMetaNames.AUTHOR_NAME: \"IBM\", \n               client.repository.ModelMetaNames.AUTHOR_EMAIL: \"ibm@ibm.com\", \n               client.repository.ModelMetaNames.NAME: \"KK3_clt_keras_mnist\",\n               client.repository.ModelMetaNames.FRAMEWORK_NAME: \"tensorflow\",\n               client.repository.ModelMetaNames.FRAMEWORK_VERSION: \"1.15\" ,\n               client.repository.ModelMetaNames.FRAMEWORK_LIBRARIES: [{\"name\": \"keras\", \"version\": \"2.2.5\"}]\n              }"
        },
        {
            "cell_type": "code",
            "execution_count": 47,
            "metadata": {},
            "outputs": [],
            "source": "published_model = client.repository.store_model(model=\"my_best_model.tgz\", meta_props=model_props)\n"
        },
        {
            "cell_type": "code",
            "execution_count": 48,
            "metadata": {},
            "outputs": [],
            "source": "published_model_uid = client.repository.get_model_uid(published_model)\nmodel_details = client.repository.get_details(published_model_uid)"
        },
        {
            "cell_type": "markdown",
            "metadata": {},
            "source": "## 3.0 Deploy the Keras model"
        },
        {
            "cell_type": "code",
            "execution_count": 49,
            "metadata": {},
            "outputs": [
                {
                    "name": "stdout",
                    "output_type": "stream",
                    "text": "------------------------------------  -------------------  ------  --------------  ------------------------  ---------------  -------------\nGUID                                  NAME                 TYPE    STATE           CREATED                   FRAMEWORK        ARTIFACT TYPE\nedbea096-ab52-4ea4-a9a7-e804f51aa5f1  k1_keras_mnist_clt1  online  DEPLOY_FAILURE  2020-07-15T19:46:16.063Z  tensorflow-1.15  model\n------------------------------------  -------------------  ------  --------------  ------------------------  ---------------  -------------\n"
                }
            ],
            "source": "client.deployments.list()"
        },
        {
            "cell_type": "markdown",
            "metadata": {},
            "source": "To keep your environment clean, just delete all deployments from previous runs"
        },
        {
            "cell_type": "code",
            "execution_count": 50,
            "metadata": {},
            "outputs": [
                {
                    "data": {
                        "text/plain": "'SUCCESS'"
                    },
                    "execution_count": 50,
                    "metadata": {},
                    "output_type": "execute_result"
                }
            ],
            "source": "client.deployments.delete(\"edbea096-ab52-4ea4-a9a7-e804f51aa5f1\")"
        },
        {
            "cell_type": "code",
            "execution_count": 51,
            "metadata": {},
            "outputs": [
                {
                    "name": "stdout",
                    "output_type": "stream",
                    "text": "\n\n#######################################################################################\n\nSynchronous deployment creation for uid: 'b56931e1-4e0c-4b2c-a8b5-368f1dda889f' started\n\n#######################################################################################\n\n\nINITIALIZING\nDEPLOY_SUCCESS\n\n\n------------------------------------------------------------------------------------------------\nSuccessfully finished deployment creation, deployment_uid='2015462f-552b-4d5e-9985-4cc8e1ab30e2'\n------------------------------------------------------------------------------------------------\n\n\n"
                }
            ],
            "source": "created_deployment = client.deployments.create(published_model_uid, name=\"k1_keras_mnist_clt1\")"
        },
        {
            "cell_type": "markdown",
            "metadata": {},
            "source": "## Test the model"
        },
        {
            "cell_type": "code",
            "execution_count": 52,
            "metadata": {},
            "outputs": [
                {
                    "name": "stdout",
                    "output_type": "stream",
                    "text": "https://eu-gb.ml.cloud.ibm.com/v3/wml_instances/19d0758d-c6df-45f8-a1ef-ab20f4e4f2ad/deployments/2015462f-552b-4d5e-9985-4cc8e1ab30e2/online\n"
                }
            ],
            "source": "#scoring_endpoint = client.deployments.get_scoring_url(created_deployment)\nscoring_endpoint = created_deployment['entity']['scoring_url']\nprint(scoring_endpoint)"
        },
        {
            "cell_type": "code",
            "execution_count": 53,
            "metadata": {},
            "outputs": [
                {
                    "name": "stdout",
                    "output_type": "stream",
                    "text": "The answer should be:  5\n"
                }
            ],
            "source": "x_score_1 = x_test[23].tolist()\nprint('The answer should be: ',np.argmax(y_test[23]))\nscoring_payload = {'values': [x_score_1]}"
        },
        {
            "cell_type": "code",
            "execution_count": 54,
            "metadata": {},
            "outputs": [
                {
                    "name": "stdout",
                    "output_type": "stream",
                    "text": "And the answer is!...  5\n"
                }
            ],
            "source": "predictions = client.deployments.score(scoring_endpoint, scoring_payload)\nprint('And the answer is!... ',predictions['values'][0][1])"
        },
        {
            "cell_type": "code",
            "execution_count": null,
            "metadata": {},
            "outputs": [],
            "source": ""
        }
    ],
    "metadata": {
        "kernelspec": {
            "display_name": "Python 3.6",
            "language": "python",
            "name": "python3"
        },
        "language_info": {
            "codemirror_mode": {
                "name": "ipython",
                "version": 3
            },
            "file_extension": ".py",
            "mimetype": "text/x-python",
            "name": "python",
            "nbconvert_exporter": "python",
            "pygments_lexer": "ipython3",
            "version": "3.6.9"
        }
    },
    "nbformat": 4,
    "nbformat_minor": 2
}